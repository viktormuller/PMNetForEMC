{
 "cells": [
  {
   "cell_type": "code",
   "execution_count": 1,
   "id": "eb0784c6",
   "metadata": {},
   "outputs": [
    {
     "name": "stdout",
     "output_type": "stream",
     "text": [
      "Requirement already satisfied: torchvision in c:\\users\\vikto\\python\\lib\\site-packages (0.16.2)\n",
      "Requirement already satisfied: numpy in c:\\users\\vikto\\python\\lib\\site-packages (from torchvision) (1.26.2)\n",
      "Requirement already satisfied: requests in c:\\users\\vikto\\python\\lib\\site-packages (from torchvision) (2.31.0)\n",
      "Requirement already satisfied: torch==2.1.2 in c:\\users\\vikto\\python\\lib\\site-packages (from torchvision) (2.1.2)\n",
      "Requirement already satisfied: pillow!=8.3.*,>=5.3.0 in c:\\users\\vikto\\python\\lib\\site-packages (from torchvision) (10.2.0)\n",
      "Requirement already satisfied: filelock in c:\\users\\vikto\\python\\lib\\site-packages (from torch==2.1.2->torchvision) (3.13.1)\n",
      "Requirement already satisfied: typing-extensions in c:\\users\\vikto\\python\\lib\\site-packages (from torch==2.1.2->torchvision) (4.9.0)\n",
      "Requirement already satisfied: sympy in c:\\users\\vikto\\python\\lib\\site-packages (from torch==2.1.2->torchvision) (1.12)\n",
      "Requirement already satisfied: networkx in c:\\users\\vikto\\python\\lib\\site-packages (from torch==2.1.2->torchvision) (3.2.1)\n",
      "Requirement already satisfied: jinja2 in c:\\users\\vikto\\python\\lib\\site-packages (from torch==2.1.2->torchvision) (3.1.2)\n",
      "Requirement already satisfied: fsspec in c:\\users\\vikto\\python\\lib\\site-packages (from torch==2.1.2->torchvision) (2023.12.2)\n",
      "Requirement already satisfied: charset-normalizer<4,>=2 in c:\\users\\vikto\\python\\lib\\site-packages (from requests->torchvision) (3.3.2)\n",
      "Requirement already satisfied: idna<4,>=2.5 in c:\\users\\vikto\\python\\lib\\site-packages (from requests->torchvision) (3.4)\n",
      "Requirement already satisfied: urllib3<3,>=1.21.1 in c:\\users\\vikto\\python\\lib\\site-packages (from requests->torchvision) (1.26.18)\n",
      "Requirement already satisfied: certifi>=2017.4.17 in c:\\users\\vikto\\python\\lib\\site-packages (from requests->torchvision) (2023.11.17)\n",
      "Requirement already satisfied: MarkupSafe>=2.0 in c:\\users\\vikto\\python\\lib\\site-packages (from jinja2->torch==2.1.2->torchvision) (2.1.1)\n",
      "Requirement already satisfied: mpmath>=0.19 in c:\\users\\vikto\\python\\lib\\site-packages (from sympy->torch==2.1.2->torchvision) (1.3.0)\n"
     ]
    },
    {
     "name": "stderr",
     "output_type": "stream",
     "text": [
      "\n",
      "[notice] A new release of pip is available: 23.3.1 -> 23.3.2\n",
      "[notice] To update, run: python.exe -m pip install --upgrade pip\n"
     ]
    },
    {
     "data": {
      "text/plain": [
       "'C:\\\\Users\\\\vikto\\\\python\\\\python.exe'"
      ]
     },
     "execution_count": 1,
     "metadata": {},
     "output_type": "execute_result"
    }
   ],
   "source": [
    "!pip install torchvision"
   ]
  },
  {
   "cell_type": "code",
   "execution_count": 1,
   "id": "13b45759",
   "metadata": {},
   "outputs": [],
   "source": [
    "import pandas as pd\n",
    "import torch\n",
    "from torchvision import transforms\n",
    "from torch.utils.data import Dataset\n",
    "import os\n",
    "import numpy as np\n",
    "from skimage import io\n",
    "\n",
    "class PMnet_usc_per_pixel(Dataset): \n",
    "    def __init__(self, csv_file,\n",
    "                 dir_dataset=\"data/USC/\",               \n",
    "                 transform= transforms.ToTensor()):\n",
    "        self.ind_val = pd.read_csv(csv_file)\n",
    "        self.dir_dataset = dir_dataset\n",
    "        self.transform = transform\n",
    "\n",
    "    def __len__(self):\n",
    "        return len(self.ind_val)\n",
    "    \n",
    "    def __getitem__(self, idx):\n",
    "\n",
    "        #Load city map\n",
    "        self.dir_buildings = self.dir_dataset+ \"/map/\"\n",
    "        img_name_buildings = os.path.join(self.dir_buildings, str((self.ind_val.iloc[idx, 0]))) + \".png\"\n",
    "        image_buildings = np.asarray(io.imread(img_name_buildings))\n",
    "        \n",
    "        #Load Tx (transmitter):\n",
    "        self.dir_Tx = self.dir_dataset+ \"/Tx/\" \n",
    "        img_name_Tx = os.path.join(self.dir_Tx, str((self.ind_val.iloc[idx, 0]))) + \".png\"\n",
    "        image_Tx = np.asarray(io.imread(img_name_Tx))\n",
    "        \n",
    "        image_buildings_Tx=np.stack([image_buildings, image_Tx], axis=2)\n",
    "\n",
    "        \n",
    "        positions = torch.tensor(self.ind_val.iloc[idx,1:3].values, dtype=torch.float32)\n",
    "        powers = torch.tensor(self.ind_val.iloc[idx,3], dtype=torch.float32)\n",
    "\n",
    "        if self.transform:            \n",
    "            image_buidlings = self.transform(image_buildings_Tx).type(torch.float32)            \n",
    "\n",
    "        inputs = (positions, image_buildings_Tx)\n",
    "            \n",
    "        return [inputs , powers]"
   ]
  },
  {
   "cell_type": "code",
   "execution_count": 2,
   "id": "2b91389e",
   "metadata": {},
   "outputs": [],
   "source": [
    "csv_file = 'data/USC/samples.csv'\n",
    "dir_dataset=\"data/USC/\"\n",
    "\n",
    "per_pixel_dataset = PMnet_usc_per_pixel(csv_file)"
   ]
  },
  {
   "cell_type": "code",
   "execution_count": 8,
   "id": "ca4c49e6",
   "metadata": {},
   "outputs": [
    {
     "name": "stdout",
     "output_type": "stream",
     "text": [
      "x: 12.0, y: 93.0\n",
      "torch.Size([2, 256, 256, 2])\n"
     ]
    },
    {
     "data": {
      "image/png": "[encoded data removed]",
      "text/plain": [
       "<Figure size 640x480 with 1 Axes>"
      ]
     },
     "metadata": {},
     "output_type": "display_data"
    },
    {
     "data": {
      "image/png": "[encoded data removed]",
      "text/plain": [
       "<Figure size 640x480 with 1 Axes>"
      ]
     },
     "metadata": {},
     "output_type": "display_data"
    },
    {
     "name": "stdout",
     "output_type": "stream",
     "text": [
      "power: 176.0\n"
     ]
    }
   ],
   "source": [
    "from torch.utils.data import DataLoader\n",
    "\n",
    "data_loader = DataLoader(per_pixel_dataset, batch_size=2, shuffle=False)\n",
    "\n",
    "sample = next(iter(data_loader))\n",
    "\n",
    "positions, image_buildings_Tx = sample[:][0]\n",
    "powers = sample[:][1]\n",
    "\n",
    "print(\"x: {}, y: {}\".format(positions[0,0], positions[0,1]))\n",
    "\n",
    "import matplotlib.pyplot as plt\n",
    "\n",
    "print(image_buildings_Tx.shape)\n",
    "\n",
    "img_buildings = image_buildings_Tx[0][:,:,0]\n",
    "\n",
    "plt.imshow(img_buildings.squeeze(), cmap='gray')\n",
    "plt.show()\n",
    "\n",
    "img_Tx = image_buildings_Tx[0][:,:,1]\n",
    "\n",
    "plt.imshow(img_Tx.squeeze(), cmap='gray')\n",
    "plt.show()\n",
    "\n",
    "print(\"power: {}\".format(powers[0]))"
   ]
  },
  {
   "cell_type": "code",
   "execution_count": 9,
   "id": "6bee2663",
   "metadata": {},
   "outputs": [
    {
     "name": "stdout",
     "output_type": "stream",
     "text": [
      "Training set size: 38733823\n",
      "Testing set size: 4841727\n",
      "Validation set size: 4841729\n"
     ]
    }
   ],
   "source": [
    "import torch\n",
    "from torch.utils.data import Dataset, DataLoader, random_split\n",
    "\n",
    "# Assuming you have a PyTorch dataset called 'my_dataset'\n",
    "# Replace this with your actual dataset instantiation\n",
    "\n",
    "# Set a fixed seed for reproducibility\n",
    "seed = 42\n",
    "torch.manual_seed(seed)\n",
    "\n",
    "# Define the sizes for train, test, and validation sets\n",
    "total_samples = len(per_pixel_dataset)\n",
    "train_size = int(0.8 * total_samples)\n",
    "test_size = int(0.1 * total_samples)\n",
    "val_size = total_samples - train_size - test_size\n",
    "\n",
    "# Use random_split to split the dataset\n",
    "train_dataset, test_dataset, val_dataset = random_split(\n",
    "    per_pixel_dataset, [train_size, test_size, val_size], generator=torch.Generator().manual_seed(seed)\n",
    ")\n",
    "\n",
    "# Print sizes of the split datasets\n",
    "print(\"Training set size:\", len(train_dataset))\n",
    "print(\"Testing set size:\", len(test_dataset))\n",
    "print(\"Validation set size:\", len(val_dataset))\n"
   ]
  },
  {
   "cell_type": "code",
   "execution_count": null,
   "id": "bb435c45",
   "metadata": {},
   "outputs": [],
   "source": []
  }
 ],
 "metadata": {
  "kernelspec": {
   "display_name": "Python 3 (ipykernel)",
   "language": "python",
   "name": "python3"
  },
  "language_info": {
   "codemirror_mode": {
    "name": "ipython",
    "version": 3
   },
   "file_extension": ".py",
   "mimetype": "text/x-python",
   "name": "python",
   "nbconvert_exporter": "python",
   "pygments_lexer": "ipython3",
   "version": "3.11.1"
  }
 },
 "nbformat": 4,
 "nbformat_minor": 5
}
